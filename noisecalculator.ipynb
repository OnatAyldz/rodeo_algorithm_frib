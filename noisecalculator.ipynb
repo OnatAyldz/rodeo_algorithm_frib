{
 "cells": [
  {
   "cell_type": "markdown",
   "metadata": {},
   "source": [
    "# Probability of Success"
   ]
  },
  {
   "cell_type": "markdown",
   "metadata": {},
   "source": [
    "The probability of measuring an ancilla qubit as 0 after each time evolution is given by:\n",
    "\n",
    "$$\\text{P(N, N}_{{\\text{super}}}) = \\left[\\frac{1}{\\sigma\\sqrt{2\\pi}} \\int_{-\\infty}^{\\infty} e^{\\frac{t^2}{2\\sigma^2}} \\prod_{k=0}^{N_{super}-1} \\text{cos}^2\\left(\\frac{\\Delta Et}{2^{k+1}}\\right)dt\\ \\right]^N$$\n",
    "\n",
    "Although we cannot directly calculate the width"
   ]
  },
  {
   "cell_type": "code",
   "execution_count": 2,
   "metadata": {},
   "outputs": [
    {
     "name": "stderr",
     "output_type": "stream",
     "text": [
      "C:\\Users\\sirac\\AppData\\Local\\Temp\\ipykernel_5176\\1467082041.py:2: RuntimeWarning: overflow encountered in exp\n",
      "  1 / (32 * np.exp(30625 / 2)) * (1 + 2 * np.exp(8125 / 2) + 3 * np.exp(7500) + 4 * np.exp(20625 / 2) + 5 * np.exp(12500) + 6 * np.exp(28125 / 2) + 7 * np.exp(15000) + 4 * np.exp(30625 / 2))\n",
      "C:\\Users\\sirac\\AppData\\Local\\Temp\\ipykernel_5176\\1467082041.py:2: RuntimeWarning: invalid value encountered in scalar multiply\n",
      "  1 / (32 * np.exp(30625 / 2)) * (1 + 2 * np.exp(8125 / 2) + 3 * np.exp(7500) + 4 * np.exp(20625 / 2) + 5 * np.exp(12500) + 6 * np.exp(28125 / 2) + 7 * np.exp(15000) + 4 * np.exp(30625 / 2))\n"
     ]
    },
    {
     "data": {
      "text/plain": [
       "nan"
      ]
     },
     "execution_count": 2,
     "metadata": {},
     "output_type": "execute_result"
    }
   ],
   "source": [
    "import numpy as np\n",
    "1 / (32 * np.exp(30625 / 2)) * (1 + 2 * np.exp(8125 / 2) + 3 * np.exp(7500) + 4 * np.exp(20625 / 2) + 5 * np.exp(12500) + 6 * np.exp(28125 / 2) + 7 * np.exp(15000) + 4 * np.exp(30625 / 2))"
   ]
  },
  {
   "cell_type": "code",
   "execution_count": null,
   "metadata": {},
   "outputs": [],
   "source": [
    "np.exp"
   ]
  }
 ],
 "metadata": {
  "kernelspec": {
   "display_name": "research_env",
   "language": "python",
   "name": "python3"
  },
  "language_info": {
   "codemirror_mode": {
    "name": "ipython",
    "version": 3
   },
   "file_extension": ".py",
   "mimetype": "text/x-python",
   "name": "python",
   "nbconvert_exporter": "python",
   "pygments_lexer": "ipython3",
   "version": "3.12.4"
  }
 },
 "nbformat": 4,
 "nbformat_minor": 2
}
