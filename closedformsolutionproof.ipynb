{
 "cells": [
  {
   "cell_type": "markdown",
   "metadata": {},
   "source": [
    "# Closed Form Solution Proof\n",
    "\n",
    "Finding a closed form solution to this problem:\n",
    "\n",
    "$$\\text{P(1, N}_{{\\text{super}}}) = \\frac{1}{\\sigma\\sqrt{2\\pi}} \\int_{-\\infty}^{\\infty} e^{\\frac{t^2}{2\\sigma^2}} \\prod_{n=0}^{N_{super}-1} \\text{cos}^2\\left(\\frac{\\Delta Et}{2^{n+1}}\\right)dt\\$$"
   ]
  },
  {
   "cell_type": "markdown",
   "metadata": {},
   "source": [
    "First, we know that\n",
    "\n",
    "$$\\cos^2(\\theta) = \\frac{1+\\cos(2\\theta)}{2} = \\frac{1}{2} + \\frac{e^{i2\\theta}}{4} + \\frac{e^{-i2\\theta}}{4} $$\n"
   ]
  },
  {
   "cell_type": "markdown",
   "metadata": {},
   "source": [
    "\n",
    "We can rewrite the cosine terms in the product using this identity:\n",
    "\n",
    "$$\\text{P(1, N}_{{\\text{super}}}) = \\frac{1}{\\sigma\\sqrt{2\\pi}} \\int_{-\\infty}^{\\infty} e^{\\frac{t^2}{2\\sigma^2}} \\prod_{k=0}^{N_{super}-1}\\frac{1}{2} + \\frac{e^{i2\\frac{\\Delta Et}{2^{k+1}}}}{4} + \\frac{e^{-i2\\frac{\\Delta Et}{2^{k+1}}}}{4}dt\\$$\n"
   ]
  },
  {
   "cell_type": "markdown",
   "metadata": {},
   "source": [
    "\n",
    "$$\\text{P(1, N}_{{\\text{super}}}) = \\frac{1}{\\sigma\\sqrt{2\\pi}} \\int_{-\\infty}^{\\infty} e^{\\frac{t^2}{2\\sigma^2}} \\prod_{k=0}^{N_{super}-1}\\frac{1}{2} + \\frac{e^{i\\frac{\\Delta Et}{2^{k}}}}{4} + \\frac{e^{-i\\frac{\\Delta Et}{2^{k}}}}{4}dt\\$$\n"
   ]
  },
  {
   "cell_type": "markdown",
   "metadata": {},
   "source": [
    "\n",
    "Now, we need to expand the product\n",
    "\n",
    "$$\\prod_{k=0}^{N_{super}-1}\\left(\\frac{1}{2} + \\frac{e^{i\\frac{\\Delta Et}{2^{k}}}}{4} + \\frac{e^{-i\\frac{\\Delta Et}{2^{k}}}}{4}\\right)$$\n",
    "\n"
   ]
  },
  {
   "cell_type": "markdown",
   "metadata": {},
   "source": [
    "\n",
    "The result will end up being a sum of terms that are products of \n",
    "\n",
    "$$\\frac{1}{2},\\frac{e^{i\\frac{\\Delta Et}{2^{k}}}}{4},\\frac{e^{-i\\frac{\\Delta Et}{2^{k}}}}{4}$$\n",
    "\n"
   ]
  },
  {
   "cell_type": "markdown",
   "metadata": {},
   "source": [
    "\n",
    "\n",
    "One term in the expansion is not oscillatory, and remains as a constant term:\n",
    "\n",
    "$$\\prod_{k=0}^{N_{super}-1}\\frac{1}{2} = \\frac{1}{2^{N_{super}}}$$\n",
    "\n"
   ]
  },
  {
   "cell_type": "markdown",
   "metadata": {},
   "source": [
    "\n",
    "\n",
    "Looking at the rest of the expansion, ignoring the coefficients, each term is a product of:\n",
    "\n",
    "$$e^{im_k\\frac{\\Delta Et}{2^k}}$$\n",
    "\n"
   ]
  },
  {
   "cell_type": "markdown",
   "metadata": {},
   "source": [
    "\n",
    "Where $m_k \\in \\set{-1,0,1}$, corresponding to the terms $\\frac{1}{2},e^{i\\frac{\\Delta Et}{2^{k}}},e^{-i\\frac{\\Delta Et}{2^{k}}}$. Thus, each exponent will be of the form:\n",
    "\n",
    "$$e^{it\\sum_{k=0}^{N_{super}-1}m_k\\frac{\\Delta E}{2^k}}$$\n",
    "\n"
   ]
  },
  {
   "cell_type": "markdown",
   "metadata": {},
   "source": [
    "\n",
    "\n",
    "Looking solely at the part of the exponent:\n",
    "\n",
    "$$\\sum_{k=0}^{N_{super}-1}m_k\\frac{\\Delta E}{2^k}$$\n",
    "\n"
   ]
  },
  {
   "cell_type": "markdown",
   "metadata": {},
   "source": [
    "\n",
    "\n",
    "Since $\\frac{\\Delta E }{2^{N_{super}}}$ is the smallest phase increment, it can be factored out and the sum can be rewritten as:\n",
    "\n",
    "$$\\frac{\\Delta E }{2^{N_{super}}} \\sum_{k=0}^{N_{super}-1}m_k2^{N_{super}-1-k}$$\n",
    "\n"
   ]
  },
  {
   "cell_type": "markdown",
   "metadata": {},
   "source": [
    "\n",
    "\n",
    "Where $2^{N_{super}-1-k}$ represents the weightage of each term. We can then define a new variable:\n",
    "\n",
    "$$n = \\sum_{k=0}^{N_{super}-1}m_k2^{N_{super}-1-k}$$\n",
    "\n",
    "$$\\alpha = n\\frac{\\Delta E}{2^{N_{super}}}$$"
   ]
  },
  {
   "cell_type": "markdown",
   "metadata": {},
   "source": [
    "\n",
    "\n",
    "where $n \\in \\set{0,1,...2^{N_{super}}}$. The range of n corresponds to the total number of unique contributions to $\\alpha$, which can be seen from how we defined n. Since cosine is symmetric, we can assume that terms with opposite signs contribute equally to the expansion. This also means that there will be degeneracies (terms that contribute the same amount) to the phase.\n",
    "\n",
    "Based on our definition of n, we can see that the smaller the n value, the more terms contribute to the sum and vice versa. This is a linear relationship, so the degeneracy can be defined by:\n",
    "\n",
    "$$2^{N_{super}}-n$$\n",
    "\n"
   ]
  },
  {
   "cell_type": "markdown",
   "metadata": {},
   "source": [
    "\n",
    "\n",
    "This means that each n contributes $2^{N_{super}}-n$ terms to the expansion.\n",
    "\n",
    "The coefficients in the oscillatory term also introduce a normalization factor:\n",
    "\n",
    "$$\\prod_{k=0}^{N_{super}-1}\\left(\\frac{1}{2} + \\frac{e^{i\\frac{\\Delta Et}{2^{k}}}}{4} + \\frac{e^{-i\\frac{\\Delta Et}{2^{k}}}}{4}\\right)$$\n",
    "\n"
   ]
  },
  {
   "cell_type": "markdown",
   "metadata": {},
   "source": [
    "\n",
    "\n",
    "These coefficients lead to the normalization factor:\n",
    "\n",
    "$$\\frac{1}{2^{2N_{super}-1}}$$\n",
    "\n"
   ]
  },
  {
   "cell_type": "markdown",
   "metadata": {},
   "source": [
    "\n",
    "\n",
    "Putting it all together, we obtain \n",
    "\n",
    "$$\\frac{1}{2^{2N_{super}-1}}(2^{N_{super}}-n)e^{i\\alpha t}$$\n",
    "\n"
   ]
  },
  {
   "cell_type": "markdown",
   "metadata": {},
   "source": [
    "\n",
    "\n",
    "Now, we can use the identity:\n",
    "\n",
    "$$\\frac{1}{\\sigma\\sqrt{2\\pi}}\\int_{-\\infty}^{\\infty} e^{\\frac{t^2}{2\\sigma^2}}e^{i\\alpha t} = e^{-\\frac{1}{2}\\alpha^2\\sigma^2}$$\n",
    "\n"
   ]
  },
  {
   "cell_type": "markdown",
   "metadata": {},
   "source": [
    "\n",
    "\n",
    "Expanding $\\alpha$ and introducing our degeneracy and coefficient terms, along with the summation, and subtracting our constant term from the expansion, we get:\n",
    "\n",
    "$$\\left[\\sum_{n=0}^{2^{N_{super}}}\\frac{1}{2^{2N_{super}-1}}(2^{N_{super}}-n)\\text{exp}\\left(\\frac{(\\Delta E)^2\\sigma^2n^2}{2^{2N_{super}-1}}\\right)\\right]-\\frac{1}{2^{N_{super}}}$$\n"
   ]
  },
  {
   "cell_type": "markdown",
   "metadata": {},
   "source": [
    "\n",
    "From my findings, the denominator ends up being $2N_{super}+1$ instead of $2N_{super}-1$, I need to check why this is.\n"
   ]
  }
 ],
 "metadata": {
  "kernelspec": {
   "display_name": "research_env",
   "language": "python",
   "name": "python3"
  },
  "language_info": {
   "name": "python",
   "version": "3.12.4"
  }
 },
 "nbformat": 4,
 "nbformat_minor": 2
}
