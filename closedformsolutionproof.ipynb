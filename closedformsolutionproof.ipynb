{
 "cells": [
  {
   "cell_type": "markdown",
   "metadata": {},
   "source": [
    "# Closed Form Solution Proof\n",
    "\n",
    "Finding a closed form solution to this problem:\n",
    "\n",
    "$$\\text{P}(1, N_{{\\text{super}}}) = \\frac{1}{\\sigma\\sqrt{2\\pi}} \\int_{-\\infty}^{\\infty} e^{\\frac{t^2}{2\\sigma^2}} \\prod_{k=0}^{N_{super}-1} \\text{cos}^2\\left(\\frac{\\Delta Et}{2^{k+1}}\\right)dt\\$$"
   ]
  },
  {
   "cell_type": "markdown",
   "metadata": {},
   "source": [
    "First, we know that\n",
    "\n",
    "$$\\cos^2(\\theta) = \\frac{1+\\cos(2\\theta)}{2} = \\frac{1}{2} + \\frac{e^{i2\\theta}}{4} + \\frac{e^{-i2\\theta}}{4} $$\n"
   ]
  },
  {
   "cell_type": "markdown",
   "metadata": {},
   "source": [
    "\n",
    "We can rewrite the cosine terms in the product using this identity:\n",
    "\n",
    "$$\\text{P}(1, N_{{\\text{super}}}) = \\frac{1}{\\sigma\\sqrt{2\\pi}} \\int_{-\\infty}^{\\infty} e^{\\frac{t^2}{2\\sigma^2}} \\prod_{k=0}^{N_{super}-1}\\frac{1}{2} + \\frac{e^{i2\\frac{\\Delta Et}{2^{k+1}}}}{4} + \\frac{e^{-i2\\frac{\\Delta Et}{2^{k+1}}}}{4}dt\\$$\n"
   ]
  },
  {
   "cell_type": "markdown",
   "metadata": {},
   "source": [
    "\n",
    "$$\\text{P}(1, N_{{\\text{super}}}) = \\frac{1}{\\sigma\\sqrt{2\\pi}} \\int_{-\\infty}^{\\infty} e^{\\frac{t^2}{2\\sigma^2}} \\prod_{k=0}^{N_{super}-1}\\frac{1}{2} + \\frac{e^{i\\frac{\\Delta Et}{2^{k}}}}{4} + \\frac{e^{-i\\frac{\\Delta Et}{2^{k}}}}{4}dt\\$$\n"
   ]
  },
  {
   "cell_type": "markdown",
   "metadata": {},
   "source": [
    "\n",
    "Now, we need to expand the product\n",
    "\n",
    "$$\\prod_{k=0}^{N_{super}-1}\\left(\\frac{1}{2} + \\frac{e^{i\\frac{\\Delta Et}{2^{k}}}}{4} + \\frac{e^{-i\\frac{\\Delta Et}{2^{k}}}}{4}\\right)$$\n",
    "\n"
   ]
  },
  {
   "cell_type": "markdown",
   "metadata": {},
   "source": [
    "\n",
    "The result will end up being a sum of terms that are products of \n",
    "\n",
    "$$\\frac{1}{2},\\frac{e^{i\\frac{\\Delta Et}{2^{k}}}}{4},\\frac{e^{-i\\frac{\\Delta Et}{2^{k}}}}{4}$$\n",
    "\n"
   ]
  },
  {
   "cell_type": "markdown",
   "metadata": {},
   "source": [
    "One term in the expansion is not oscillatory, and remains as a constant term, which will be subtracted later from the summation for regularization.\n",
    "\n",
    "$$\\prod_{k=0}^{N_{super}-1}\\frac{1}{2} = \\frac{1}{2^{N_{super}}}$$\n",
    "\n"
   ]
  },
  {
   "cell_type": "markdown",
   "metadata": {},
   "source": [
    "\n",
    "\n",
    "Looking at the rest of the expansion, ignoring the coefficients, each term is a product of:\n",
    "\n",
    "$$e^{im_k\\frac{\\Delta Et}{2^k}}$$\n",
    "\n"
   ]
  },
  {
   "cell_type": "markdown",
   "metadata": {},
   "source": [
    "\n",
    "Where $m_k \\in \\set{-1,0,1}$, corresponding to the terms $\\frac{1}{2},e^{i\\frac{\\Delta Et}{2^{k}}},e^{-i\\frac{\\Delta Et}{2^{k}}}$. Thus, each exponent will be of the form:\n",
    "\n",
    "$$e^{it\\sum_{k=0}^{N_{super}-1}m_k\\frac{\\Delta E}{2^k}}$$\n",
    "\n"
   ]
  },
  {
   "cell_type": "markdown",
   "metadata": {},
   "source": [
    "\n",
    "\n",
    "Looking solely at the part of the exponent:\n",
    "\n",
    "$$\\sum_{k=0}^{N_{super}-1}m_k\\frac{\\Delta E}{2^k}$$\n",
    "\n"
   ]
  },
  {
   "cell_type": "markdown",
   "metadata": {},
   "source": [
    "The smallest factor reached occurs at $k = N_{super}-1$, giving us the smallest common factor in each term to be $\\frac{\\Delta E}{2^{N_{super}-1}}$. This can be factored out, but we need to keep the sum consistent.\n",
    "\n",
    "$$\\frac{\\Delta E}{2^k} = \\frac{\\Delta E}{2^{N_{super}-1}}2^{N_{super}-1-k}$$\n",
    "\n",
    "$$\\frac{\\Delta E }{2^{N_{super}-1}} \\sum_{k=0}^{N_{super}-1}m_k2^{N_{super}-1-k}$$\n",
    "\n"
   ]
  },
  {
   "cell_type": "markdown",
   "metadata": {},
   "source": [
    "Where $2^{N_{super}-1-k}$ represents the weightage of each term. We can then define a new variable:\n",
    "\n",
    "$$n = \\sum_{k=0}^{N_{super}-1}m_k2^{N_{super}-1-k}$$"
   ]
  },
  {
   "cell_type": "markdown",
   "metadata": {},
   "source": [
    "We have mentioned that $m_k \\in \\set{-1,0,1}$. This implies that n would have $3^{N_{super}}$ values ranging from $-(2^{N_{super}} - 1)$ to $2^{N_{super}} - 1$ at $m_k = -1$ and $m_k = 1$ for all k.\n",
    "\n",
    "$$n_{min} = \\sum_{k=0}^{N_{super}-1}(-1)2^{N_{super}-1-k} = -(2^{N_{super}} - 1)$$\n",
    "\n",
    "$$n_{max} = \\sum_{k=0}^{N_{super}-1}(1)2^{N_{super}-1-k} = 2^{N_{super}} - 1$$"
   ]
  },
  {
   "cell_type": "markdown",
   "metadata": {},
   "source": [
    "Once we define this, we will have a sum of terms of the form:\n",
    "\n",
    "\n",
    "$$\\sum_{n=0}^{{3^{N_{super}}}}c_n e^{\\frac{in\\Delta E t}{2^{N_{super}-1}}}$$"
   ]
  },
  {
   "cell_type": "markdown",
   "metadata": {},
   "source": [
    "$c_n$ are the coefficients for each term. Because there are negative and positive $m_k$ values, we will obtain terms with the same exponents, thus they will add together, changing the $c_n$ values. However, the terms that add together, by definition have to have the same n. Therefore, we need to find a way to derive the $c_n$ values in terms of $n$. This can be derived using combinatorics.\n",
    "\n",
    "Remembering that our initial generative function for the product can be written as \n",
    "\n",
    "$$\\left(\\frac{1+\\cos(2\\theta)}{2}\\right)^{N_{super}}$$"
   ]
  },
  {
   "cell_type": "markdown",
   "metadata": {},
   "source": [
    "We can expand this using the binomial theorem:\n",
    "\n",
    "$$\\frac{1}{2^N}(1+\\cos(\\theta))^N$$\n",
    "\n",
    "$$\\frac{1}{2^N}\\sum^{N}_{k=0}{N \\choose k}\\cos^k(\\theta)$$"
   ]
  },
  {
   "cell_type": "markdown",
   "metadata": {},
   "source": [
    "We can use the fact that\n",
    "\n",
    "$$\\cos^k(\\theta) = \\frac{1}{2^k}\\sum^k_{m=-k}{k \\choose \\frac{k+m}{2}}e^{im\\theta}$$"
   ]
  },
  {
   "cell_type": "markdown",
   "metadata": {},
   "source": [
    "To put it back into the equation, making it \n",
    "\n",
    "$$\\frac{1}{2^N}\\sum^{N}_{k=|n|}\\frac{1}{2^k}{N \\choose k}{k \\choose \\frac{k+n}{2}}$$"
   ]
  },
  {
   "cell_type": "markdown",
   "metadata": {},
   "source": [
    "For sufficiently large N, the dominant terms come from near the center of the binomial distribution. For example, for $n=0$, the coefficient is\n"
   ]
  },
  {
   "cell_type": "markdown",
   "metadata": {},
   "source": [
    "\n",
    "\n",
    "This means that each n contributes $2^{N_{super}}-n$ terms to the expansion.\n",
    "\n",
    "The coefficients in the oscillatory term also introduce a normalization factor:\n",
    "\n",
    "$$\\prod_{k=0}^{N_{super}-1}\\left(\\frac{1}{2} + \\frac{e^{i\\frac{\\Delta Et}{2^{k}}}}{4} + \\frac{e^{-i\\frac{\\Delta Et}{2^{k}}}}{4}\\right)$$\n",
    "\n"
   ]
  },
  {
   "cell_type": "markdown",
   "metadata": {},
   "source": [
    "\n",
    "\n",
    "These coefficients lead to the normalization factor:\n",
    "\n",
    "$$\\frac{1}{2^{2N_{super}-1}}$$\n",
    "\n"
   ]
  },
  {
   "cell_type": "markdown",
   "metadata": {},
   "source": [
    "\n",
    "\n",
    "Putting it all together, we obtain \n",
    "\n",
    "$$\\frac{1}{2^{2N_{super}-1}}(2^{N_{super}}-n)e^{i\\alpha t}$$\n",
    "\n"
   ]
  },
  {
   "cell_type": "markdown",
   "metadata": {},
   "source": [
    "\n",
    "\n",
    "Now, we can use the identity:\n",
    "\n",
    "$$\\frac{1}{\\sigma\\sqrt{2\\pi}}\\int_{-\\infty}^{\\infty} e^{\\frac{t^2}{2\\sigma^2}}e^{i\\alpha t} = e^{-\\frac{1}{2}\\alpha^2\\sigma^2}$$\n",
    "\n"
   ]
  },
  {
   "cell_type": "markdown",
   "metadata": {},
   "source": [
    "\n",
    "\n",
    "Expanding $\\alpha$ and introducing our degeneracy and coefficient terms, along with the summation, and subtracting our constant term from the expansion, we get:\n",
    "\n",
    "$$\\left[\\sum_{n=0}^{2^{N_{super}}}\\frac{1}{2^{2N_{super}-1}}(2^{N_{super}}-n)\\text{exp}\\left(\\frac{(\\Delta E)^2\\sigma^2n^2}{2^{2N_{super}-1}}\\right)\\right]-\\frac{1}{2^{N_{super}}}$$\n"
   ]
  },
  {
   "cell_type": "markdown",
   "metadata": {},
   "source": [
    "\n",
    "From my findings, the denominator ends up being $2N_{super}+1$ instead of $2N_{super}-1$, I need to check why this is.\n"
   ]
  }
 ],
 "metadata": {
  "kernelspec": {
   "display_name": "research_env",
   "language": "python",
   "name": "python3"
  },
  "language_info": {
   "name": "python",
   "version": "3.12.4"
  }
 },
 "nbformat": 4,
 "nbformat_minor": 2
}
