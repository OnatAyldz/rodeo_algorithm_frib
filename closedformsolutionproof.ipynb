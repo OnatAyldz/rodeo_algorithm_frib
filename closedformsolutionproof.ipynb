{
 "cells": [
  {
   "cell_type": "markdown",
   "metadata": {},
   "source": [
    "# Closed Form Solution Proof\n",
    "\n",
    "Finding a closed form solution to this problem:\n",
    "\n",
    "$$\\text{P}(1, N_{{\\text{super}}}) = \\frac{1}{\\sigma\\sqrt{2\\pi}} \\int_{-\\infty}^{\\infty} e^{\\frac{t^2}{2\\sigma^2}} \\prod_{k=0}^{N_{super}-1} \\text{cos}^2\\left(\\frac{\\Delta Et}{2^{k+1}}\\right)dt\\$$"
   ]
  },
  {
   "cell_type": "markdown",
   "metadata": {},
   "source": [
    "To simplify the problem, we can first analyze the product\n",
    "\n",
    "$$\\prod^{N_{super}}_{k=0}\\cos\\left(\\frac{\\Delta Et}{2^{k+1}}\\right)$$"
   ]
  },
  {
   "cell_type": "markdown",
   "metadata": {},
   "source": [
    "Using Euler's identity, we know that\n",
    "\n",
    "$$\\cos\\left(\\frac{\\Delta Et}{2^{k+1}}\\right) = \\frac{1}{2}\\left(e^{i\\frac{\\Delta Et}{2^{k+1}}}+ e^{-i\\frac{\\Delta Et}{2^{k+1}}}\\right)$$\n",
    "\n",
    "$$\\prod^{N_{super}-1}_{k=0}\\frac{1}{2}\\left(e^{i\\frac{\\Delta Et}{2^{k+1}}}+ e^{-i\\frac{\\Delta Et}{2^{k+1}}}\\right)$$"
   ]
  },
  {
   "cell_type": "markdown",
   "metadata": {},
   "source": [
    "If we expand this out, we get a symmetric sequence of exponentials centered around 0 of the following form. This we can write:\n",
    "\n",
    "$$\\prod^{N_{super}}_{k=0}\\cos\\left(\\frac{\\Delta Et}{2^{k+1}}\\right) = \\frac{1}{2^{N_{super}}}\\left(e^{\\frac{-(2^{N_{super}}-1)}{2^{N_{super}}}it\\Delta E} + e^{\\frac{-(2^{N_{super}}-3)}{2^{N_{super}}}it\\Delta E} + e^{\\frac{-(2^{N_{super}}-5)}{2^{N_{super}}}it\\Delta E} + ... + e^{\\frac{(2^{N_{super}}-1)}{2^{N_{super}}}it\\Delta E}\\right)$$"
   ]
  },
  {
   "cell_type": "markdown",
   "metadata": {},
   "source": [
    "Now to obtain the product for cos^2, we simply have to square this sum. This introduces new terms to the sum, due to the combination of the exponential terms. Since all of the exponentials are odd, we know that the smallest magnitude of the exponential term must be $\\pm \\frac{it\\Delta E}{2^{N_{super}}}$. This causes the maximum and minimum values for the exponentials of the squared sum to be $2^{N_{super}}$ and $-2^{N_{super}}$ respectively. Squaring will also effectively remove a factor of $\\frac{1}{2}$ from the exponential, creating the form:\n",
    "\n",
    "$$\\prod^{N_{super}}_{k=0}\\cos^2\\left(\\frac{\\Delta Et}{2^{k+1}}\\right) = \\frac{1}{2^{2N_{super}}}\\left(e^{\\frac{-(2^{N_{super}})}{2^{N_{super}-1}}it\\Delta E} +  ... + e^{\\frac{2^{N_{super}}}{2^{N_{super}-1}}it \\Delta E}\\right)$$"
   ]
  },
  {
   "cell_type": "markdown",
   "metadata": {},
   "source": [
    "What is happening when we square the sum for cos? Remember that the sum of the exponentials are symmetric around 0. This means that we can pair each exponential with its negative to create a 0 in the exponent. This gives us $2^{N_{super}}$ possibilities to create 0. This means that this many of these exponentials will add up. \n",
    "\n",
    "The next sum that we can create in the exponent in the numerator is $(1)it\\Delta E$. We will see that we lose one pairing possibility, and that we have only $2^{N_{super}}-1$ ways to make this numerator in the exponential. That means there are $2^{N_{super}}-1$ terms with this exponent that will add up. This will be the same for the numerator $(-1)it\\Delta E$. We begin to see a pattern with this pairing. If we factor out $\\frac{it\\Delta E}{2^{N_{super}-1}}$ in the exponentials, we can rewrite the sum above in closed form.\n",
    "\n",
    "$$\\prod^{N_{super}}_{k=0}\\cos^2\\left(\\frac{\\Delta Et}{2^{k+1}}\\right) = \\sum^{(2^{N_{super}}-1)}_{n=-({2^{N_{super}}}-1)} \\frac{2^{N_{super}}-|n|}{2^{2N_{super}}}e^{\\frac{itn\\Delta E}{2^{N_{super}-1}}}"
   ]
  },
  {
   "cell_type": "markdown",
   "metadata": {},
   "source": [
    "Where the $2^{N_{super}}-|n|$ corresponds to the number of terms that can add up to give a given value in the numerator of the exponential. Since the cosine sum was symmetric, this makes sense, we have the most possibilities to get a 0 in the exponential. As our n value increases in the exponential, there are linearly decreasing fewer ways to achieve this term. As we can see in the sum above for example, there is only one way to achieve the term $-2^{N_{super}}$ in the numerator of the exponential, which occurs at $n = -(2^{N_{super}}-1)$.\n",
    "\n",
    "Given this relation, we can simplify the sum slightly since adding these two terms will just result in 0.\n",
    "\n",
    "$$\\prod^{N_{super}}_{k=0}\\cos^2\\left(\\frac{\\Delta Et}{2^{k+1}}\\right) = \\sum^{2^{N_{super}}}_{n=-{2^{N_{super}}}} \\frac{2^{N_{super}}-|n|}{2^{2N_{super}}}e^{\\frac{itn\\Delta E}{2^{N_{super}-1}}}$$"
   ]
  },
  {
   "cell_type": "markdown",
   "metadata": {},
   "source": [
    "Now that we have the product written in a closed form, we can tackle the rest of the problem.\n",
    "\n",
    "$$\\frac{1}{\\sigma\\sqrt{2\\pi}} \\int_{-\\infty}^{\\infty} e^{\\frac{t^2}{2\\sigma^2}} \\sum^{2^{N_{super}}}_{n=-{2^{N_{super}}}} \\frac{2^{N_{super}}-|n|}{2^{2N_{super}}}e^{\\frac{itn\\Delta E}{2^{N_{super}-1}}}$$"
   ]
  },
  {
   "cell_type": "markdown",
   "metadata": {},
   "source": [
    "\n",
    "\n",
    "Now, we can use the identity:\n",
    "\n",
    "$$\\frac{1}{\\sigma\\sqrt{2\\pi}}\\int_{-\\infty}^{\\infty} e^{\\frac{t^2}{2\\sigma^2}}e^{i\\alpha t} = e^{-\\frac{1}{2}\\alpha^2\\sigma^2}$$\n",
    "\n"
   ]
  },
  {
   "cell_type": "markdown",
   "metadata": {},
   "source": [
    "An important thing to note about this identity is that it will give the same result for both $e^{-i\\alpha t}$ and $e^{i\\alpha t}$. Since our sum was symmetric, we are thus effectively doubling each term, and removing all of the negative signs from our equation, reducing the range of our to $[0, 2^{N_{super}}]$. Thus, we can further simplify the equation by defining:\n",
    "\n",
    "$$\\alpha = \\frac{n\\Delta E}{2^{N_{super}-1}}$$"
   ]
  },
  {
   "cell_type": "markdown",
   "metadata": {},
   "source": [
    "Evaluating out the integral, we get:\n",
    "\n",
    "$$\\sum^{2^{N_{super}}}_{n=0}\\frac{2^{N_{super}}-n}{2^{2N_{super}}}\\exp\\left(-\\frac{1}{2}\\left(\\frac{n^2\\Delta E^2}{2^{2N_{super}-2}}\\right)\\sigma^2\\right)$$"
   ]
  },
  {
   "cell_type": "markdown",
   "metadata": {},
   "source": [
    "Which, after evaluating out and removing a regularization factor gives us the result:\n",
    "\n",
    "$$\\left[\\sum_{n=0}^{2^{N_{super}}}\\frac{1}{2^{2N_{super}-1}}(2^{N_{super}}-n)\\text{exp}\\left(-\\frac{(\\Delta E)^2\\sigma^2n^2}{2^{2N_{super}-1}}\\right)\\right]-\\frac{1}{2^{N_{super}}}$$\n"
   ]
  }
 ],
 "metadata": {
  "kernelspec": {
   "display_name": "research_env",
   "language": "python",
   "name": "python3"
  },
  "language_info": {
   "name": "python",
   "version": "3.12.4"
  }
 },
 "nbformat": 4,
 "nbformat_minor": 2
}
