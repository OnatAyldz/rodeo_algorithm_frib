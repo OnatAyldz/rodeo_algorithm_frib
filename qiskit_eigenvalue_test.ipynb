{
 "cells": [
  {
   "cell_type": "code",
   "execution_count": 3,
   "metadata": {},
   "outputs": [
    {
     "ename": "AttributeError",
     "evalue": "'csr_matrix' object has no attribute 'H'",
     "output_type": "error",
     "traceback": [
      "\u001b[1;31m---------------------------------------------------------------------------\u001b[0m",
      "\u001b[1;31mAttributeError\u001b[0m                            Traceback (most recent call last)",
      "Cell \u001b[1;32mIn[3], line 63\u001b[0m\n\u001b[0;32m     61\u001b[0m \u001b[38;5;66;03m# Use NumPyEigensolver to compute the eigenvalues\u001b[39;00m\n\u001b[0;32m     62\u001b[0m eigensolver \u001b[38;5;241m=\u001b[39m NumPyEigensolver(k\u001b[38;5;241m=\u001b[39m\u001b[38;5;241m5\u001b[39m)  \u001b[38;5;66;03m# k=5 will return the 5 lowest eigenvalues\u001b[39;00m\n\u001b[1;32m---> 63\u001b[0m result \u001b[38;5;241m=\u001b[39m \u001b[43meigensolver\u001b[49m\u001b[38;5;241;43m.\u001b[39;49m\u001b[43mcompute_eigenvalues\u001b[49m\u001b[43m(\u001b[49m\u001b[43mhamiltonian\u001b[49m\u001b[43m)\u001b[49m\n\u001b[0;32m     65\u001b[0m \u001b[38;5;66;03m# Print the eigenvalues\u001b[39;00m\n\u001b[0;32m     66\u001b[0m \u001b[38;5;28mprint\u001b[39m(\u001b[38;5;124m\"\u001b[39m\u001b[38;5;124mEigenvalues of the Fermi-Hubbard Hamiltonian:\u001b[39m\u001b[38;5;124m\"\u001b[39m)\n",
      "File \u001b[1;32mc:\\Users\\sirac\\anaconda3\\envs\\research_env\\Lib\\site-packages\\qiskit_algorithms\\eigensolvers\\numpy_eigensolver.py:258\u001b[0m, in \u001b[0;36mNumPyEigensolver.compute_eigenvalues\u001b[1;34m(self, operator, aux_operators)\u001b[0m\n\u001b[0;32m    254\u001b[0m \u001b[38;5;28;01mif\u001b[39;00m \u001b[38;5;28mself\u001b[39m\u001b[38;5;241m.\u001b[39m_filter_criterion:\n\u001b[0;32m    255\u001b[0m     \u001b[38;5;66;03m# need to consider all elements if a filter is set\u001b[39;00m\n\u001b[0;32m    256\u001b[0m     \u001b[38;5;28mself\u001b[39m\u001b[38;5;241m.\u001b[39m_k \u001b[38;5;241m=\u001b[39m \u001b[38;5;241m2\u001b[39m\u001b[38;5;241m*\u001b[39m\u001b[38;5;241m*\u001b[39moperator\u001b[38;5;241m.\u001b[39mnum_qubits\n\u001b[1;32m--> 258\u001b[0m eigvals, eigvecs \u001b[38;5;241m=\u001b[39m \u001b[38;5;28;43mself\u001b[39;49m\u001b[38;5;241;43m.\u001b[39;49m\u001b[43m_solve\u001b[49m\u001b[43m(\u001b[49m\u001b[43moperator\u001b[49m\u001b[43m)\u001b[49m\n\u001b[0;32m    260\u001b[0m \u001b[38;5;66;03m# compute energies before filtering, as this also evaluates the aux operators\u001b[39;00m\n\u001b[0;32m    261\u001b[0m \u001b[38;5;28;01mif\u001b[39;00m aux_operators \u001b[38;5;129;01mis\u001b[39;00m \u001b[38;5;129;01mnot\u001b[39;00m \u001b[38;5;28;01mNone\u001b[39;00m:\n",
      "File \u001b[1;32mc:\\Users\\sirac\\anaconda3\\envs\\research_env\\Lib\\site-packages\\qiskit_algorithms\\eigensolvers\\numpy_eigensolver.py:143\u001b[0m, in \u001b[0;36mNumPyEigensolver._solve\u001b[1;34m(self, operator)\u001b[0m\n\u001b[0;32m    141\u001b[0m             eigval, eigvec \u001b[38;5;241m=\u001b[39m \u001b[38;5;28mself\u001b[39m\u001b[38;5;241m.\u001b[39m_solve_dense(operator\u001b[38;5;241m.\u001b[39mto_matrix())\n\u001b[0;32m    142\u001b[0m         \u001b[38;5;28;01melse\u001b[39;00m:\n\u001b[1;32m--> 143\u001b[0m             eigval, eigvec \u001b[38;5;241m=\u001b[39m \u001b[38;5;28;43mself\u001b[39;49m\u001b[38;5;241;43m.\u001b[39;49m\u001b[43m_solve_sparse\u001b[49m\u001b[43m(\u001b[49m\u001b[43mop_matrix\u001b[49m\u001b[43m,\u001b[49m\u001b[43m \u001b[49m\u001b[38;5;28;43mself\u001b[39;49m\u001b[38;5;241;43m.\u001b[39;49m\u001b[43m_k\u001b[49m\u001b[43m)\u001b[49m\n\u001b[0;32m    144\u001b[0m \u001b[38;5;28;01melse\u001b[39;00m:\n\u001b[0;32m    145\u001b[0m     \u001b[38;5;66;03m# Sparse SciPy matrix not supported, use dense NumPy computation.\u001b[39;00m\n\u001b[0;32m    146\u001b[0m     eigval, eigvec \u001b[38;5;241m=\u001b[39m \u001b[38;5;28mself\u001b[39m\u001b[38;5;241m.\u001b[39m_solve_dense(operator\u001b[38;5;241m.\u001b[39mto_matrix())\n",
      "File \u001b[1;32mc:\\Users\\sirac\\anaconda3\\envs\\research_env\\Lib\\site-packages\\qiskit_algorithms\\eigensolvers\\numpy_eigensolver.py:155\u001b[0m, in \u001b[0;36mNumPyEigensolver._solve_sparse\u001b[1;34m(op_matrix, k)\u001b[0m\n\u001b[0;32m    153\u001b[0m \u001b[38;5;129m@staticmethod\u001b[39m\n\u001b[0;32m    154\u001b[0m \u001b[38;5;28;01mdef\u001b[39;00m \u001b[38;5;21m_solve_sparse\u001b[39m(op_matrix: scisparse\u001b[38;5;241m.\u001b[39mcsr_matrix, k: \u001b[38;5;28mint\u001b[39m) \u001b[38;5;241m-\u001b[39m\u001b[38;5;241m>\u001b[39m \u001b[38;5;28mtuple\u001b[39m[np\u001b[38;5;241m.\u001b[39mndarray, np\u001b[38;5;241m.\u001b[39mndarray]:\n\u001b[1;32m--> 155\u001b[0m     \u001b[38;5;28;01mif\u001b[39;00m (op_matrix \u001b[38;5;241m!=\u001b[39m \u001b[43mop_matrix\u001b[49m\u001b[38;5;241;43m.\u001b[39;49m\u001b[43mH\u001b[49m)\u001b[38;5;241m.\u001b[39mnnz \u001b[38;5;241m==\u001b[39m \u001b[38;5;241m0\u001b[39m:\n\u001b[0;32m    156\u001b[0m         \u001b[38;5;66;03m# Operator is Hermitian\u001b[39;00m\n\u001b[0;32m    157\u001b[0m         \u001b[38;5;28;01mreturn\u001b[39;00m scisparse\u001b[38;5;241m.\u001b[39mlinalg\u001b[38;5;241m.\u001b[39meigsh(op_matrix, k\u001b[38;5;241m=\u001b[39mk, which\u001b[38;5;241m=\u001b[39m\u001b[38;5;124m\"\u001b[39m\u001b[38;5;124mSA\u001b[39m\u001b[38;5;124m\"\u001b[39m)\n\u001b[0;32m    158\u001b[0m     \u001b[38;5;28;01melse\u001b[39;00m:\n",
      "\u001b[1;31mAttributeError\u001b[0m: 'csr_matrix' object has no attribute 'H'"
     ]
    }
   ],
   "source": [
    "from qiskit.quantum_info import SparsePauliOp\n",
    "from qiskit_algorithms import NumPyEigensolver\n",
    "\n",
    "# Define the function to create the Fermi-Hubbard Hamiltonian (use your provided function)\n",
    "def fermi_hubbard_hamiltonian(SIZE, J_hopping, U_onsite):\n",
    "    hamiltonian_entries = []\n",
    "    num_qubits = SIZE * 2  # Total number of qubits\n",
    "\n",
    "    # Nearest-Neighbor Hopping Terms (XX and YY between up spins and down spins)\n",
    "    for site in range(SIZE - 1):\n",
    "        up_spin_qubit_1 = site * 2\n",
    "        down_spin_qubit_1 = site * 2 + 1\n",
    "        up_spin_qubit_2 = (site + 1) * 2\n",
    "        down_spin_qubit_2 = (site + 1) * 2 + 1\n",
    "\n",
    "        # XX interaction for up spins\n",
    "        xx_up_term = [\"I\"] * num_qubits\n",
    "        xx_up_term[up_spin_qubit_1] = \"X\"\n",
    "        xx_up_term[up_spin_qubit_2] = \"X\"\n",
    "        hamiltonian_entries.append((\"\".join(xx_up_term), -J_hopping))\n",
    "        \n",
    "        # YY interaction for up spins\n",
    "        yy_up_term = [\"I\"] * num_qubits\n",
    "        yy_up_term[up_spin_qubit_1] = \"Y\"\n",
    "        yy_up_term[up_spin_qubit_2] = \"Y\"\n",
    "        hamiltonian_entries.append((\"\".join(yy_up_term), -J_hopping))\n",
    "        \n",
    "        # XX interaction for down spins\n",
    "        xx_down_term = [\"I\"] * num_qubits\n",
    "        xx_down_term[down_spin_qubit_1] = \"X\"\n",
    "        xx_down_term[down_spin_qubit_2] = \"X\"\n",
    "        hamiltonian_entries.append((\"\".join(xx_down_term), -J_hopping))\n",
    "        \n",
    "        # YY interaction for down spins\n",
    "        yy_down_term = [\"I\"] * num_qubits\n",
    "        yy_down_term[down_spin_qubit_1] = \"Y\"\n",
    "        yy_down_term[down_spin_qubit_2] = \"Y\"\n",
    "        hamiltonian_entries.append((\"\".join(yy_down_term), -J_hopping))\n",
    "    \n",
    "    # On-Site Interaction Terms (ZZ within each site)\n",
    "    for site in range(SIZE):\n",
    "        up_spin_qubit = site * 2\n",
    "        down_spin_qubit = site * 2 + 1\n",
    "        zz_onsite_term = [\"I\"] * num_qubits\n",
    "        zz_onsite_term[up_spin_qubit] = \"Z\"\n",
    "        zz_onsite_term[down_spin_qubit] = \"Z\"\n",
    "        hamiltonian_entries.append((\"\".join(zz_onsite_term), U_onsite))\n",
    "    \n",
    "    # Create the Hamiltonian as a SparsePauliOp\n",
    "    hamiltonian = SparsePauliOp.from_list(hamiltonian_entries)\n",
    "    return hamiltonian\n",
    "\n",
    "# Example parameters\n",
    "SIZE = 2\n",
    "J_hopping = 1.0\n",
    "U_onsite = 1.0\n",
    "\n",
    "# Construct the Hamiltonian\n",
    "hamiltonian = fermi_hubbard_hamiltonian(SIZE, J_hopping, U_onsite)\n",
    "\n",
    "# Use NumPyEigensolver to compute the eigenvalues\n",
    "eigensolver = NumPyEigensolver(k=5)  # k=5 will return the 5 lowest eigenvalues\n",
    "result = eigensolver.compute_eigenvalues(hamiltonian)\n",
    "\n",
    "# Print the eigenvalues\n",
    "print(\"Eigenvalues of the Fermi-Hubbard Hamiltonian:\")\n",
    "print(result.eigenvalues)\n"
   ]
  },
  {
   "cell_type": "code",
   "execution_count": 4,
   "metadata": {},
   "outputs": [
    {
     "ename": "AttributeError",
     "evalue": "'csr_matrix' object has no attribute 'H'",
     "output_type": "error",
     "traceback": [
      "\u001b[1;31m---------------------------------------------------------------------------\u001b[0m",
      "\u001b[1;31mAttributeError\u001b[0m                            Traceback (most recent call last)",
      "Cell \u001b[1;32mIn[4], line 12\u001b[0m\n\u001b[0;32m      9\u001b[0m eigensolver \u001b[38;5;241m=\u001b[39m NumPyEigensolver()\n\u001b[0;32m     11\u001b[0m \u001b[38;5;66;03m# Compute eigenvalues\u001b[39;00m\n\u001b[1;32m---> 12\u001b[0m result \u001b[38;5;241m=\u001b[39m \u001b[43meigensolver\u001b[49m\u001b[38;5;241;43m.\u001b[39;49m\u001b[43mcompute_eigenvalues\u001b[49m\u001b[43m(\u001b[49m\u001b[43mhamiltonian\u001b[49m\u001b[43m)\u001b[49m\n\u001b[0;32m     13\u001b[0m \u001b[38;5;28mprint\u001b[39m(\u001b[38;5;124m\"\u001b[39m\u001b[38;5;124mEigenvalues:\u001b[39m\u001b[38;5;124m\"\u001b[39m, result\u001b[38;5;241m.\u001b[39meigenvalues)\n",
      "File \u001b[1;32mc:\\Users\\sirac\\anaconda3\\envs\\research_env\\Lib\\site-packages\\qiskit_algorithms\\eigensolvers\\numpy_eigensolver.py:258\u001b[0m, in \u001b[0;36mNumPyEigensolver.compute_eigenvalues\u001b[1;34m(self, operator, aux_operators)\u001b[0m\n\u001b[0;32m    254\u001b[0m \u001b[38;5;28;01mif\u001b[39;00m \u001b[38;5;28mself\u001b[39m\u001b[38;5;241m.\u001b[39m_filter_criterion:\n\u001b[0;32m    255\u001b[0m     \u001b[38;5;66;03m# need to consider all elements if a filter is set\u001b[39;00m\n\u001b[0;32m    256\u001b[0m     \u001b[38;5;28mself\u001b[39m\u001b[38;5;241m.\u001b[39m_k \u001b[38;5;241m=\u001b[39m \u001b[38;5;241m2\u001b[39m\u001b[38;5;241m*\u001b[39m\u001b[38;5;241m*\u001b[39moperator\u001b[38;5;241m.\u001b[39mnum_qubits\n\u001b[1;32m--> 258\u001b[0m eigvals, eigvecs \u001b[38;5;241m=\u001b[39m \u001b[38;5;28;43mself\u001b[39;49m\u001b[38;5;241;43m.\u001b[39;49m\u001b[43m_solve\u001b[49m\u001b[43m(\u001b[49m\u001b[43moperator\u001b[49m\u001b[43m)\u001b[49m\n\u001b[0;32m    260\u001b[0m \u001b[38;5;66;03m# compute energies before filtering, as this also evaluates the aux operators\u001b[39;00m\n\u001b[0;32m    261\u001b[0m \u001b[38;5;28;01mif\u001b[39;00m aux_operators \u001b[38;5;129;01mis\u001b[39;00m \u001b[38;5;129;01mnot\u001b[39;00m \u001b[38;5;28;01mNone\u001b[39;00m:\n",
      "File \u001b[1;32mc:\\Users\\sirac\\anaconda3\\envs\\research_env\\Lib\\site-packages\\qiskit_algorithms\\eigensolvers\\numpy_eigensolver.py:143\u001b[0m, in \u001b[0;36mNumPyEigensolver._solve\u001b[1;34m(self, operator)\u001b[0m\n\u001b[0;32m    141\u001b[0m             eigval, eigvec \u001b[38;5;241m=\u001b[39m \u001b[38;5;28mself\u001b[39m\u001b[38;5;241m.\u001b[39m_solve_dense(operator\u001b[38;5;241m.\u001b[39mto_matrix())\n\u001b[0;32m    142\u001b[0m         \u001b[38;5;28;01melse\u001b[39;00m:\n\u001b[1;32m--> 143\u001b[0m             eigval, eigvec \u001b[38;5;241m=\u001b[39m \u001b[38;5;28;43mself\u001b[39;49m\u001b[38;5;241;43m.\u001b[39;49m\u001b[43m_solve_sparse\u001b[49m\u001b[43m(\u001b[49m\u001b[43mop_matrix\u001b[49m\u001b[43m,\u001b[49m\u001b[43m \u001b[49m\u001b[38;5;28;43mself\u001b[39;49m\u001b[38;5;241;43m.\u001b[39;49m\u001b[43m_k\u001b[49m\u001b[43m)\u001b[49m\n\u001b[0;32m    144\u001b[0m \u001b[38;5;28;01melse\u001b[39;00m:\n\u001b[0;32m    145\u001b[0m     \u001b[38;5;66;03m# Sparse SciPy matrix not supported, use dense NumPy computation.\u001b[39;00m\n\u001b[0;32m    146\u001b[0m     eigval, eigvec \u001b[38;5;241m=\u001b[39m \u001b[38;5;28mself\u001b[39m\u001b[38;5;241m.\u001b[39m_solve_dense(operator\u001b[38;5;241m.\u001b[39mto_matrix())\n",
      "File \u001b[1;32mc:\\Users\\sirac\\anaconda3\\envs\\research_env\\Lib\\site-packages\\qiskit_algorithms\\eigensolvers\\numpy_eigensolver.py:155\u001b[0m, in \u001b[0;36mNumPyEigensolver._solve_sparse\u001b[1;34m(op_matrix, k)\u001b[0m\n\u001b[0;32m    153\u001b[0m \u001b[38;5;129m@staticmethod\u001b[39m\n\u001b[0;32m    154\u001b[0m \u001b[38;5;28;01mdef\u001b[39;00m \u001b[38;5;21m_solve_sparse\u001b[39m(op_matrix: scisparse\u001b[38;5;241m.\u001b[39mcsr_matrix, k: \u001b[38;5;28mint\u001b[39m) \u001b[38;5;241m-\u001b[39m\u001b[38;5;241m>\u001b[39m \u001b[38;5;28mtuple\u001b[39m[np\u001b[38;5;241m.\u001b[39mndarray, np\u001b[38;5;241m.\u001b[39mndarray]:\n\u001b[1;32m--> 155\u001b[0m     \u001b[38;5;28;01mif\u001b[39;00m (op_matrix \u001b[38;5;241m!=\u001b[39m \u001b[43mop_matrix\u001b[49m\u001b[38;5;241;43m.\u001b[39;49m\u001b[43mH\u001b[49m)\u001b[38;5;241m.\u001b[39mnnz \u001b[38;5;241m==\u001b[39m \u001b[38;5;241m0\u001b[39m:\n\u001b[0;32m    156\u001b[0m         \u001b[38;5;66;03m# Operator is Hermitian\u001b[39;00m\n\u001b[0;32m    157\u001b[0m         \u001b[38;5;28;01mreturn\u001b[39;00m scisparse\u001b[38;5;241m.\u001b[39mlinalg\u001b[38;5;241m.\u001b[39meigsh(op_matrix, k\u001b[38;5;241m=\u001b[39mk, which\u001b[38;5;241m=\u001b[39m\u001b[38;5;124m\"\u001b[39m\u001b[38;5;124mSA\u001b[39m\u001b[38;5;124m\"\u001b[39m)\n\u001b[0;32m    158\u001b[0m     \u001b[38;5;28;01melse\u001b[39;00m:\n",
      "\u001b[1;31mAttributeError\u001b[0m: 'csr_matrix' object has no attribute 'H'"
     ]
    }
   ],
   "source": [
    "from qiskit.quantum_info import SparsePauliOp\n",
    "from qiskit_algorithms.eigensolvers import NumPyEigensolver\n",
    "\n",
    "# Define a simple Hamiltonian as an example\n",
    "pauli_list = [('ZZ', 1.0), ('XX', 0.5)]\n",
    "hamiltonian = SparsePauliOp.from_list(pauli_list)\n",
    "\n",
    "# Initialize the NumPyEigensolver\n",
    "eigensolver = NumPyEigensolver()\n",
    "\n",
    "# Compute eigenvalues\n",
    "result = eigensolver.compute_eigenvalues(hamiltonian)\n",
    "print(\"Eigenvalues:\", result.eigenvalues)\n"
   ]
  },
  {
   "cell_type": "code",
   "execution_count": null,
   "metadata": {},
   "outputs": [
    {
     "ename": "ModuleNotFoundError",
     "evalue": "No module named 'qiskit.opflow'",
     "output_type": "error",
     "traceback": [
      "\u001b[1;31m---------------------------------------------------------------------------\u001b[0m",
      "\u001b[1;31mModuleNotFoundError\u001b[0m                       Traceback (most recent call last)",
      "Cell \u001b[1;32mIn[5], line 1\u001b[0m\n\u001b[1;32m----> 1\u001b[0m \u001b[38;5;28;01mfrom\u001b[39;00m \u001b[38;5;21;01mqiskit\u001b[39;00m\u001b[38;5;21;01m.\u001b[39;00m\u001b[38;5;21;01mopflow\u001b[39;00m \u001b[38;5;28;01mimport\u001b[39;00m PauliSumOp\n\u001b[0;32m      2\u001b[0m \u001b[38;5;28;01mfrom\u001b[39;00m \u001b[38;5;21;01mqiskit_algorithms\u001b[39;00m\u001b[38;5;21;01m.\u001b[39;00m\u001b[38;5;21;01meigensolvers\u001b[39;00m \u001b[38;5;28;01mimport\u001b[39;00m NumPyEigensolver\n\u001b[0;32m      4\u001b[0m \u001b[38;5;66;03m# Define a Hamiltonian as a PauliSumOp instead of a SparsePauliOp\u001b[39;00m\n",
      "\u001b[1;31mModuleNotFoundError\u001b[0m: No module named 'qiskit.opflow'"
     ]
    }
   ],
   "source": [
    "from qiskit.opflow import PauliSumOp\n",
    "from qiskit_algorithms.eigensolvers import NumPyEigensolver\n",
    "\n",
    "# Define a Hamiltonian as a PauliSumOp instead of a SparsePauliOp\n",
    "pauli_list = [('ZZ', 1.0), ('XX', 0.5)]\n",
    "hamiltonian = PauliSumOp.from_list(pauli_list)\n",
    "\n",
    "# Initialize the NumPyEigensolver\n",
    "eigensolver = NumPyEigensolver()\n",
    "\n",
    "# Compute eigenvalues\n",
    "result = eigensolver.compute_eigenvalues(hamiltonian)\n",
    "print(\"Eigenvalues:\", result.eigenvalues)\n"
   ]
  },
  {
   "cell_type": "code",
   "execution_count": null,
   "metadata": {},
   "outputs": [],
   "source": []
  },
  {
   "cell_type": "code",
   "execution_count": null,
   "metadata": {},
   "outputs": [],
   "source": []
  }
 ],
 "metadata": {
  "kernelspec": {
   "display_name": "research_env",
   "language": "python",
   "name": "python3"
  },
  "language_info": {
   "codemirror_mode": {
    "name": "ipython",
    "version": 3
   },
   "file_extension": ".py",
   "mimetype": "text/x-python",
   "name": "python",
   "nbconvert_exporter": "python",
   "pygments_lexer": "ipython3",
   "version": "3.12.4"
  }
 },
 "nbformat": 4,
 "nbformat_minor": 2
}
