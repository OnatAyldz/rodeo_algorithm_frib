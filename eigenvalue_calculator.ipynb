{
 "cells": [
  {
   "cell_type": "code",
   "execution_count": 1,
   "metadata": {},
   "outputs": [],
   "source": [
    "import numpy as np\n",
    "from scipy.sparse import csr_matrix, kron, eye\n",
    "from scipy.sparse.linalg import eigsh\n",
    "\n",
    "# Define parameters for the Hubbard model\n",
    "SIZE = 4  # Number of sites\n",
    "J_hopping = 1.0  # Hopping term coefficient\n",
    "U_onsite = 4.0  # On-site interaction term coefficient\n",
    "\n",
    "# Define Pauli matrices and spin operators as sparse matrices\n",
    "I = csr_matrix([[1, 0], [0, 1]])\n",
    "S_plus = csr_matrix([[0, 1], [0, 0]])  # Raising operator\n",
    "S_minus = csr_matrix([[0, 0], [1, 0]])  # Lowering operator\n",
    "Z = csr_matrix([[1, 0], [0, -1]])\n",
    "X = csr_matrix([[0,1],[1,0]])\n",
    "zero = csr_matrix([1,0])\n",
    "one = csr_matrix([0,1])\n",
    "\n",
    "hamiltonian = J_hopping*(kron(S_plus, kron(I, kron(S_minus, I))) + \n",
    "                        kron(S_minus, kron(I, kron(S_plus, I)))+ \n",
    "                        kron(I, kron(S_plus, kron(I, S_minus))) + \n",
    "                        kron(I, kron(S_minus, kron(I, S_plus)))) + U_onsite*(kron(Z, kron(Z, kron (I,I)))+\n",
    "                        kron(I, kron(I, kron(Z, Z))))\n",
    "\n",
    "initial_state = kron(zero, kron(zero, kron(zero, zero)))\n",
    "initial_state_bra = initial_state.transpose()"
   ]
  },
  {
   "cell_type": "code",
   "execution_count": 6,
   "metadata": {},
   "outputs": [
    {
     "data": {
      "text/plain": [
       "matrix([[4., 0., 0., 0., 0., 0., 0., 0., 0., 0., 0., 0., 0., 0., 0., 0.],\n",
       "        [0., 0., 0., 0., 0., 0., 0., 0., 0., 0., 0., 0., 0., 0., 0., 0.],\n",
       "        [0., 0., 0., 0., 0., 0., 0., 0., 0., 0., 0., 0., 0., 0., 0., 0.],\n",
       "        [0., 0., 0., 0., 0., 0., 0., 0., 0., 0., 0., 0., 0., 0., 0., 0.],\n",
       "        [0., 0., 0., 0., 0., 0., 0., 0., 0., 0., 0., 0., 0., 0., 0., 0.],\n",
       "        [0., 0., 0., 0., 0., 0., 0., 0., 0., 0., 0., 0., 0., 0., 0., 0.],\n",
       "        [0., 0., 0., 0., 0., 0., 0., 0., 0., 0., 0., 0., 0., 0., 0., 0.],\n",
       "        [0., 0., 0., 0., 0., 0., 0., 0., 0., 0., 0., 0., 0., 0., 0., 0.],\n",
       "        [0., 0., 0., 0., 0., 0., 0., 0., 0., 0., 0., 0., 0., 0., 0., 0.],\n",
       "        [0., 0., 0., 0., 0., 0., 0., 0., 0., 0., 0., 0., 0., 0., 0., 0.],\n",
       "        [0., 0., 0., 0., 0., 0., 0., 0., 0., 0., 0., 0., 0., 0., 0., 0.],\n",
       "        [0., 0., 0., 0., 0., 0., 0., 0., 0., 0., 0., 0., 0., 0., 0., 0.],\n",
       "        [0., 0., 0., 0., 0., 0., 0., 0., 0., 0., 0., 0., 0., 0., 0., 0.],\n",
       "        [0., 0., 0., 0., 0., 0., 0., 0., 0., 0., 0., 0., 0., 0., 0., 0.],\n",
       "        [0., 0., 0., 0., 0., 0., 0., 0., 0., 0., 0., 0., 0., 0., 0., 0.],\n",
       "        [0., 0., 0., 0., 0., 0., 0., 0., 0., 0., 0., 0., 0., 0., 0., 0.]])"
      ]
     },
     "execution_count": 6,
     "metadata": {},
     "output_type": "execute_result"
    }
   ],
   "source": [
    "state1 = hamiltonian.multiply(initial_state)\n",
    "state2 = initial_state_bra.multiply(state1)\n",
    "state2.todense()"
   ]
  },
  {
   "cell_type": "code",
   "execution_count": 21,
   "metadata": {},
   "outputs": [],
   "source": [
    "# Define Pauli matrices and spin operators as sparse matrices\n",
    "I = np.array([[1, 0], [0, 1]])\n",
    "S_plus = np.array([[0, 1], [0, 0]])  # Raising operator\n",
    "S_minus = np.array([[0, 0], [1, 0]])  # Lowering operator\n",
    "Z = np.array([[1, 0], [0, -1]])\n",
    "X = np.array([[0,1],[1,0]])\n",
    "zero = np.array([1,0])\n",
    "one = np.array([0,1])\n",
    "\n",
    "hamiltonian = J_hopping*(np.kron(S_plus, np.kron(I, np.kron(S_minus, I))) + \n",
    "                        np.kron(S_minus, np.kron(I, np.kron(S_plus, I)))+ \n",
    "                        np.kron(I, np.kron(S_plus, np.kron(I, S_minus))) + \n",
    "                        np.kron(I, np.kron(S_minus, np.kron(I, S_plus)))) + U_onsite*(np.kron(Z, np.kron(Z, np.kron (I,I)))+\n",
    "                        np.kron(I, np.kron(I, np.kron(Z, Z))))"
   ]
  },
  {
   "cell_type": "code",
   "execution_count": 38,
   "metadata": {},
   "outputs": [
    {
     "name": "stdout",
     "output_type": "stream",
     "text": [
      "initial_state_ket shape: (16, 1)\n",
      "initial_state_bra shape: (1, 16)\n"
     ]
    }
   ],
   "source": [
    "initial_state1 = np.kron(one, np.kron(zero, np.kron(zero, zero)))\n",
    "initial_state2 = np.kron(zero, np.kron(zero, np.kron(one, zero)))\n",
    "\n",
    "# Reshape initial_state into ket and bra forms\n",
    "initial_state_ket = initial_state2.reshape(16, 1)           # (16, 1) for column vector (ket)\n",
    "initial_state_bra = initial_state1.reshape(1,16)            # (1, 16) for row vector (bra)\n",
    "\n",
    "# Display the shapes to confirm\n",
    "print(\"initial_state_ket shape:\", initial_state_ket.shape)\n",
    "print(\"initial_state_bra shape:\", initial_state_bra.shape)"
   ]
  },
  {
   "cell_type": "code",
   "execution_count": 39,
   "metadata": {},
   "outputs": [
    {
     "data": {
      "text/plain": [
       "array([[1.]])"
      ]
     },
     "execution_count": 39,
     "metadata": {},
     "output_type": "execute_result"
    }
   ],
   "source": [
    "initial_state_bra @ hamiltonian @ initial_state_ket"
   ]
  },
  {
   "cell_type": "code",
   "execution_count": 2,
   "metadata": {},
   "outputs": [
    {
     "name": "stdout",
     "output_type": "stream",
     "text": [
      "Basis states for sector with 1 up spin and 1 down spin: ['|0011>', '|0110>', '|1001>', '|1100>']\n",
      "Eigenvalues for this sector: [-8.24621125 -2.          2.          8.24621125]\n",
      "Eigenvectors for this sector: [[-4.35162146e-01  0.00000000e+00 -7.07106781e-01 -5.57345410e-01]\n",
      " [ 5.57345410e-01 -7.07106781e-01  1.22663473e-17 -4.35162146e-01]\n",
      " [ 5.57345410e-01  7.07106781e-01  1.22663473e-17 -4.35162146e-01]\n",
      " [-4.35162146e-01  0.00000000e+00  7.07106781e-01 -5.57345410e-01]]\n"
     ]
    }
   ],
   "source": [
    "import numpy as np\n",
    "from scipy.sparse import csr_matrix, kron, eye\n",
    "from scipy.sparse.linalg import eigsh\n",
    "\n",
    "# Define parameters for the Hubbard model\n",
    "J_hopping = 4 # Hopping term coefficient\n",
    "U_onsite = 1  # On-site interaction term coefficient\n",
    "\n",
    "# Define Pauli matrices and spin operators as sparse matrices\n",
    "I = csr_matrix([[1, 0], [0, 1]])\n",
    "S_plus = csr_matrix([[0, 1], [0, 0]])  # Raising operator\n",
    "S_minus = csr_matrix([[0, 0], [1, 0]])  # Lowering operator\n",
    "Z = csr_matrix([[1, 0], [0, -1]])\n",
    "\n",
    "# Construct the Hamiltonian for the 2-site Fermi-Hubbard model\n",
    "hamiltonian = (J_hopping * (\n",
    "    kron(S_plus, kron(I, kron(S_minus, I))) + \n",
    "    kron(S_minus, kron(I, kron(S_plus, I))) +\n",
    "    kron(I, kron(S_plus, kron(I, S_minus))) + \n",
    "    kron(I, kron(S_minus, kron(I, S_plus)))\n",
    ") + U_onsite * (\n",
    "    kron(Z, kron(Z, kron(I, I))) +\n",
    "    kron(I, kron(I, kron(Z, Z)))\n",
    "))\n",
    "\n",
    "# hamiltonian = (J_hopping * (\n",
    "#     kron(S_plus, kron(I, kron(S_minus, I))) + \n",
    "#     kron(S_minus, kron(I, kron(S_plus, I))) +\n",
    "#     kron(I, kron(S_plus, kron(I, S_minus))) + \n",
    "#     kron(I, kron(S_minus, kron(I, S_plus)))\n",
    "# ))\n",
    "\n",
    "# Define the computational basis states for 4 qubits (2 sites)\n",
    "basis_states = [\n",
    "    \"|0000>\", \"|0001>\", \"|0010>\", \"|0011>\",\n",
    "    \"|0100>\", \"|0101>\", \"|0110>\", \"|0111>\",\n",
    "    \"|1000>\", \"|1001>\", \"|1010>\", \"|1011>\",\n",
    "    \"|1100>\", \"|1101>\", \"|1110>\", \"|1111>\"\n",
    "]\n",
    "\n",
    "# Define sectors: for example, (1 up, 1 down) sector\n",
    "# Here we define the sectors by manually filtering basis states\n",
    "# In (1 up, 1 down) sector, look for states with exactly one '1' in even positions and one '1' in odd positions\n",
    "\n",
    "def state_has_particles(state, up_spins, down_spins):\n",
    "    \"\"\"Check if a state string has the desired number of up and down spins.\"\"\"\n",
    "    up_count = sum(1 for i in range(0, 4, 2) if state[i] == '1')  # Count up spins in even positions\n",
    "    down_count = sum(1 for i in range(1, 4, 2) if state[i] == '1')  # Count down spins in odd positions\n",
    "    return up_count == up_spins and down_count == down_spins\n",
    "\n",
    "# Filter basis states for a specific sector\n",
    "up_spins = 1\n",
    "down_spins = 1\n",
    "sector_indices = [i for i, state in enumerate(basis_states) if state_has_particles(state[1:-1], up_spins, down_spins)]\n",
    "sector_states = [basis_states[i] for i in sector_indices]\n",
    "\n",
    "# Extract the submatrix corresponding to the sector from the full Hamiltonian\n",
    "hamiltonian_dense = hamiltonian.toarray()  # Convert to dense array for easier slicing\n",
    "sector_hamiltonian = hamiltonian_dense[np.ix_(sector_indices, sector_indices)]\n",
    "\n",
    "# Diagonalize the submatrix\n",
    "eigenvalues, eigenvectors = np.linalg.eigh(sector_hamiltonian)\n",
    "\n",
    "print(f\"Basis states for sector with {up_spins} up spin and {down_spins} down spin:\", sector_states)\n",
    "print(\"Eigenvalues for this sector:\", eigenvalues)\n",
    "print(\"Eigenvectors for this sector:\", eigenvectors)\n"
   ]
  },
  {
   "cell_type": "code",
   "execution_count": 7,
   "metadata": {},
   "outputs": [
    {
     "name": "stdout",
     "output_type": "stream",
     "text": [
      "Eigenvalues: [-4.47213595 -4.         -4.         -4.         -1.         -1.\n",
      " -1.         -1.          1.          1.          1.          1.\n",
      "  4.          4.          4.        ]\n"
     ]
    }
   ],
   "source": [
    "# Compute eigenvalues using scipy.sparse.linalg.eigsh\n",
    "num_eigenvalues = 15  # Number of eigenvalues to compute\n",
    "eigenvalues, _ = eigsh(hamiltonian, k=num_eigenvalues, which='SA')  # 'SA' means smallest algebraic\n",
    "\n",
    "print(\"Eigenvalues:\", eigenvalues)\n"
   ]
  },
  {
   "cell_type": "code",
   "execution_count": 5,
   "metadata": {},
   "outputs": [
    {
     "name": "stdout",
     "output_type": "stream",
     "text": [
      "Eigenvalues: [-5.14510796 -4.85952339 -4.1866292  -4.         -1.43366463 -1.\n",
      " -1.         -0.57414124  0.57414124  1.          1.          1.43366463\n",
      "  4.          4.1866292   4.85952339]\n",
      "\n",
      "Eigenvectors in the computational basis:\n",
      "\n",
      "Eigenvalue 1: -5.145107963395869\n",
      "  |0000> : 0.0141 + 0.0000j\n",
      "  |0001> : 0.1818 + 0.0000j\n",
      "  |0010> : 0.1818 + 0.0000j\n",
      "  |0011> : 0.1351 + 0.0000j\n",
      "  |0100> : -0.0643 + 0.0000j\n",
      "  |0101> : -0.3175 + 0.0000j\n",
      "  |0110> : -0.5535 + 0.0000j\n",
      "  |0111> : -0.0643 + 0.0000j\n",
      "  |1000> : -0.0643 + 0.0000j\n",
      "  |1001> : -0.5535 + 0.0000j\n",
      "  |1010> : -0.3175 + 0.0000j\n",
      "  |1011> : -0.0643 + 0.0000j\n",
      "  |1100> : 0.1351 + 0.0000j\n",
      "  |1101> : 0.1818 + 0.0000j\n",
      "  |1110> : 0.1818 + 0.0000j\n",
      "  |1111> : 0.0141 + 0.0000j\n",
      "\n",
      "Eigenvalue 2: -4.859523388615219\n",
      "  |0001> : 0.1968 + 0.0000j\n",
      "  |0010> : -0.1968 + 0.0000j\n",
      "  |0100> : -0.0405 + 0.0000j\n",
      "  |0101> : -0.4579 + 0.0000j\n",
      "  |0110> : 0.4579 + 0.0000j\n",
      "  |0111> : -0.0405 + 0.0000j\n",
      "  |1000> : 0.0405 + 0.0000j\n",
      "  |1001> : -0.4579 + 0.0000j\n",
      "  |1010> : 0.4579 + 0.0000j\n",
      "  |1011> : 0.0405 + 0.0000j\n",
      "  |1101> : 0.1968 + 0.0000j\n",
      "  |1110> : -0.1968 + 0.0000j\n",
      "\n",
      "Eigenvalue 3: -4.186629198412538\n",
      "  |0001> : 0.0559 + 0.0000j\n",
      "  |0010> : 0.0559 + 0.0000j\n",
      "  |0011> : -0.0891 + 0.0000j\n",
      "  |0101> : -0.5988 + 0.0000j\n",
      "  |0110> : 0.3564 + 0.0000j\n",
      "  |1001> : 0.3564 + 0.0000j\n",
      "  |1010> : -0.5988 + 0.0000j\n",
      "  |1100> : -0.0891 + 0.0000j\n",
      "  |1101> : 0.0559 + 0.0000j\n",
      "  |1110> : 0.0559 + 0.0000j\n",
      "\n",
      "Eigenvalue 4: -3.9999999999999973\n",
      "  |0101> : 0.5000 + 0.0000j\n",
      "  |0110> : 0.5000 + 0.0000j\n",
      "  |1001> : -0.5000 + 0.0000j\n",
      "  |1010> : -0.5000 + 0.0000j\n",
      "\n",
      "Eigenvalue 5: -1.433664629783288\n",
      "  |0000> : 0.1445 + 0.0000j\n",
      "  |0001> : 0.2738 + 0.0000j\n",
      "  |0010> : 0.2738 + 0.0000j\n",
      "  |0011> : -0.1445 + 0.0000j\n",
      "  |0100> : -0.3926 + 0.0000j\n",
      "  |0111> : 0.3926 + 0.0000j\n",
      "  |1000> : -0.3926 + 0.0000j\n",
      "  |1011> : 0.3926 + 0.0000j\n",
      "  |1100> : 0.1445 + 0.0000j\n",
      "  |1101> : -0.2738 + 0.0000j\n",
      "  |1110> : -0.2738 + 0.0000j\n",
      "  |1111> : -0.1445 + 0.0000j\n",
      "\n",
      "Eigenvalue 6: -0.9999999999999999\n",
      "  |0000> : 0.0848 + 0.0000j\n",
      "  |0001> : -0.2315 + 0.0000j\n",
      "  |0010> : 0.3841 + 0.0000j\n",
      "  |0011> : 0.0509 + 0.0000j\n",
      "  |0100> : 0.0958 + 0.0000j\n",
      "  |0101> : 0.0509 + 0.0000j\n",
      "  |0110> : 0.0848 + 0.0000j\n",
      "  |0111> : -0.5198 + 0.0000j\n",
      "  |1000> : -0.5198 + 0.0000j\n",
      "  |1001> : 0.0848 + 0.0000j\n",
      "  |1010> : 0.0509 + 0.0000j\n",
      "  |1011> : 0.0958 + 0.0000j\n",
      "  |1100> : 0.0509 + 0.0000j\n",
      "  |1101> : 0.3841 + 0.0000j\n",
      "  |1110> : -0.2315 + 0.0000j\n",
      "  |1111> : 0.0848 + 0.0000j\n",
      "\n",
      "Eigenvalue 7: -0.9999999999999997\n",
      "  |0000> : 0.1500 + 0.0000j\n",
      "  |0001> : 0.3090 + 0.0000j\n",
      "  |0010> : -0.0390 + 0.0000j\n",
      "  |0011> : 0.0900 + 0.0000j\n",
      "  |0100> : -0.5490 + 0.0000j\n",
      "  |0101> : 0.0900 + 0.0000j\n",
      "  |0110> : 0.1500 + 0.0000j\n",
      "  |0111> : -0.2010 + 0.0000j\n",
      "  |1000> : -0.2010 + 0.0000j\n",
      "  |1001> : 0.1500 + 0.0000j\n",
      "  |1010> : 0.0900 + 0.0000j\n",
      "  |1011> : -0.5490 + 0.0000j\n",
      "  |1100> : 0.0900 + 0.0000j\n",
      "  |1101> : -0.0390 + 0.0000j\n",
      "  |1110> : 0.3090 + 0.0000j\n",
      "  |1111> : 0.1500 + 0.0000j\n",
      "\n",
      "Eigenvalue 8: -0.5741412411680666\n",
      "  |0001> : -0.2391 + 0.0000j\n",
      "  |0010> : 0.2391 + 0.0000j\n",
      "  |0100> : 0.4164 + 0.0000j\n",
      "  |0101> : -0.1396 + 0.0000j\n",
      "  |0110> : 0.1396 + 0.0000j\n",
      "  |0111> : 0.4164 + 0.0000j\n",
      "  |1000> : -0.4164 + 0.0000j\n",
      "  |1001> : -0.1396 + 0.0000j\n",
      "  |1010> : 0.1396 + 0.0000j\n",
      "  |1011> : -0.4164 + 0.0000j\n",
      "  |1101> : -0.2391 + 0.0000j\n",
      "  |1110> : 0.2391 + 0.0000j\n",
      "\n",
      "Eigenvalue 9: 0.574141241168066\n",
      "  |0000> : -0.1396 + 0.0000j\n",
      "  |0001> : 0.4164 + 0.0000j\n",
      "  |0010> : 0.4164 + 0.0000j\n",
      "  |0011> : 0.1396 + 0.0000j\n",
      "  |0100> : 0.2391 + 0.0000j\n",
      "  |0111> : -0.2391 + 0.0000j\n",
      "  |1000> : 0.2391 + 0.0000j\n",
      "  |1011> : -0.2391 + 0.0000j\n",
      "  |1100> : -0.1396 + 0.0000j\n",
      "  |1101> : -0.4164 + 0.0000j\n",
      "  |1110> : -0.4164 + 0.0000j\n",
      "  |1111> : 0.1396 + 0.0000j\n",
      "\n",
      "Eigenvalue 10: 0.9999999999999984\n",
      "  |0001> : -0.3888 + 0.0000j\n",
      "  |0010> : 0.3158 + 0.0000j\n",
      "  |0011> : 0.0146 + 0.0000j\n",
      "  |0100> : -0.3654 + 0.0000j\n",
      "  |0101> : -0.0146 + 0.0000j\n",
      "  |0111> : 0.3391 + 0.0000j\n",
      "  |1000> : 0.3391 + 0.0000j\n",
      "  |1010> : -0.0146 + 0.0000j\n",
      "  |1011> : -0.3654 + 0.0000j\n",
      "  |1100> : 0.0146 + 0.0000j\n",
      "  |1101> : 0.3158 + 0.0000j\n",
      "  |1110> : -0.3888 + 0.0000j\n",
      "\n",
      "Eigenvalue 11: 1.0\n",
      "  |0000> : -0.1030 + 0.0000j\n",
      "  |0001> : 0.3993 + 0.0000j\n",
      "  |0010> : 0.4592 + 0.0000j\n",
      "  |0011> : -0.1717 + 0.0000j\n",
      "  |0100> : 0.1246 + 0.0000j\n",
      "  |0101> : 0.1717 + 0.0000j\n",
      "  |0110> : 0.1030 + 0.0000j\n",
      "  |0111> : 0.1845 + 0.0000j\n",
      "  |1000> : 0.1845 + 0.0000j\n",
      "  |1001> : 0.1030 + 0.0000j\n",
      "  |1010> : 0.1717 + 0.0000j\n",
      "  |1011> : 0.1246 + 0.0000j\n",
      "  |1100> : -0.1717 + 0.0000j\n",
      "  |1101> : 0.4592 + 0.0000j\n",
      "  |1110> : 0.3993 + 0.0000j\n",
      "  |1111> : -0.1030 + 0.0000j\n",
      "\n",
      "Eigenvalue 12: 1.4336646297832876\n",
      "  |0001> : -0.3926 + 0.0000j\n",
      "  |0010> : 0.3926 + 0.0000j\n",
      "  |0100> : -0.2738 + 0.0000j\n",
      "  |0101> : -0.1445 + 0.0000j\n",
      "  |0110> : 0.1445 + 0.0000j\n",
      "  |0111> : -0.2738 + 0.0000j\n",
      "  |1000> : 0.2738 + 0.0000j\n",
      "  |1001> : -0.1445 + 0.0000j\n",
      "  |1010> : 0.1445 + 0.0000j\n",
      "  |1011> : 0.2738 + 0.0000j\n",
      "  |1101> : -0.3926 + 0.0000j\n",
      "  |1110> : 0.3926 + 0.0000j\n",
      "\n",
      "Eigenvalue 13: 3.9999999999999973\n",
      "  |0000> : 0.5000 + 0.0000j\n",
      "  |0011> : 0.5000 + 0.0000j\n",
      "  |1100> : -0.5000 + 0.0000j\n",
      "  |1111> : -0.5000 + 0.0000j\n",
      "\n",
      "Eigenvalue 14: 4.18662919841254\n",
      "  |0000> : 0.5988 + 0.0000j\n",
      "  |0011> : -0.3564 + 0.0000j\n",
      "  |0100> : 0.0559 + 0.0000j\n",
      "  |0110> : -0.0891 + 0.0000j\n",
      "  |0111> : 0.0559 + 0.0000j\n",
      "  |1000> : 0.0559 + 0.0000j\n",
      "  |1001> : -0.0891 + 0.0000j\n",
      "  |1011> : 0.0559 + 0.0000j\n",
      "  |1100> : -0.3564 + 0.0000j\n",
      "  |1111> : 0.5988 + 0.0000j\n",
      "\n",
      "Eigenvalue 15: 4.859523388615217\n",
      "  |0000> : -0.4579 + 0.0000j\n",
      "  |0001> : -0.0405 + 0.0000j\n",
      "  |0010> : -0.0405 + 0.0000j\n",
      "  |0011> : 0.4579 + 0.0000j\n",
      "  |0100> : -0.1968 + 0.0000j\n",
      "  |0111> : 0.1968 + 0.0000j\n",
      "  |1000> : -0.1968 + 0.0000j\n",
      "  |1011> : 0.1968 + 0.0000j\n",
      "  |1100> : -0.4579 + 0.0000j\n",
      "  |1101> : 0.0405 + 0.0000j\n",
      "  |1110> : 0.0405 + 0.0000j\n",
      "  |1111> : 0.4579 + 0.0000j\n"
     ]
    }
   ],
   "source": [
    "# Compute eigenvalues and eigenvectors\n",
    "num_eigenvalues = 15  # Number of eigenvalues to compute\n",
    "eigenvalues, eigenvectors = eigsh(hamiltonian, k=num_eigenvalues, which='SA')  # 'SA' means smallest algebraic\n",
    "\n",
    "# Display eigenvalues\n",
    "print(\"Eigenvalues:\", eigenvalues)\n",
    "\n",
    "# Display eigenvectors in the computational basis\n",
    "print(\"\\nEigenvectors in the computational basis:\")\n",
    "for i in range(num_eigenvalues):\n",
    "    print(f\"\\nEigenvalue {i+1}: {eigenvalues[i]}\")\n",
    "    eigenvector = eigenvectors[:, i].flatten()\n",
    "    for j, amplitude in enumerate(eigenvector):\n",
    "        if abs(amplitude) > 1e-2:  # Only print significant components\n",
    "            basis_state = f\"{j:0{SIZE}b}\"  # Format as binary with SIZE bits\n",
    "            print(f\"  |{basis_state}> : {amplitude.real:.4f} + {amplitude.imag:.4f}j\")"
   ]
  },
  {
   "cell_type": "code",
   "execution_count": 23,
   "metadata": {},
   "outputs": [
    {
     "data": {
      "text/plain": [
       "array([-5.55111512e-17, -5.55111512e-17,  0.00000000e+00, -1.62459848e-01,\n",
       "        2.77555756e-17,  6.38378239e-16,  6.88190960e-01,  0.00000000e+00,\n",
       "        2.77555756e-17,  6.88190960e-01,  8.32667268e-16,  0.00000000e+00,\n",
       "       -1.62459848e-01,  0.00000000e+00, -2.77555756e-17, -2.77555756e-17])"
      ]
     },
     "execution_count": 23,
     "metadata": {},
     "output_type": "execute_result"
    }
   ],
   "source": [
    "eigenvectors[:, 0]"
   ]
  },
  {
   "cell_type": "code",
   "execution_count": 7,
   "metadata": {},
   "outputs": [
    {
     "name": "stdout",
     "output_type": "stream",
     "text": [
      "Eigenvalue: -2.82842712474619, Overlap: 0.0732\n",
      "Eigenvalue: 1.9999999999999998, Overlap: 0.1081\n",
      "Eigenvalue: 2.0000000000000004, Overlap: 0.0541\n",
      "Eigenvalue: 2.000000000000001, Overlap: 0.3379\n"
     ]
    }
   ],
   "source": [
    "from scipy.sparse.linalg import eigsh\n",
    "from qiskit.quantum_info import Statevector\n",
    "\n",
    "# Define the initial state |0100> as a Statevector\n",
    "initial_state = np.zeros(2**SIZE)\n",
    "# initial_state[4] = 1  # |0100> corresponds to the binary position 4 in decimal\n",
    "initial_state[12] = 1  # Position 12 corresponds to |1100> in a 4-qubit state\n",
    "initial_sv = Statevector(initial_state)\n",
    "\n",
    "# Get eigenvalues and eigenstates of the full Hamiltonian\n",
    "eigenvalues, eigenvectors = eigsh(hamiltonian, k=15, which='SA')\n",
    "\n",
    "# Initialize a list to store relevant eigenvalues\n",
    "relevant_eigenvalues = []\n",
    "\n",
    "# Calculate the projection of the initial state onto each eigenstate\n",
    "for i, (eigenvalue, eigenvector) in enumerate(zip(eigenvalues, eigenvectors.T)):\n",
    "    # Project the initial state onto the eigenstate\n",
    "    overlap = np.abs(np.dot(initial_sv.data.conj(), eigenvector)) ** 2\n",
    "    if overlap > 1e-3:  # Filter for significant overlaps\n",
    "        relevant_eigenvalues.append((eigenvalue, overlap))\n",
    "        print(f\"Eigenvalue: {eigenvalue}, Overlap: {overlap:.4f}\")\n",
    "\n",
    "# The list `relevant_eigenvalues` now contains eigenvalues and overlaps relevant to |0100>\n"
   ]
  },
  {
   "cell_type": "code",
   "execution_count": 3,
   "metadata": {},
   "outputs": [
    {
     "data": {
      "text/plain": [
       "[]"
      ]
     },
     "execution_count": 3,
     "metadata": {},
     "output_type": "execute_result"
    }
   ],
   "source": [
    "relevant_eigenvalues"
   ]
  },
  {
   "cell_type": "code",
   "execution_count": 10,
   "metadata": {},
   "outputs": [
    {
     "name": "stdout",
     "output_type": "stream",
     "text": [
      "Eigenvalues: [-2.82842712 -2.         -2.         -2.         -1.         -1.\n",
      " -1.         -1.          1.          1.          1.          1.\n",
      "  2.          2.          2.        ]\n"
     ]
    }
   ],
   "source": [
    "# Compute eigenvalues using scipy.sparse.linalg.eigsh\n",
    "num_eigenvalues = 15  # Number of eigenvalues to compute\n",
    "eigenvalues, _ = eigsh(hamiltonian, k=num_eigenvalues, which='SA')  # 'SA' means smallest algebraic\n",
    "\n",
    "print(\"Eigenvalues:\", eigenvalues)\n"
   ]
  },
  {
   "cell_type": "code",
   "execution_count": 7,
   "metadata": {},
   "outputs": [
    {
     "name": "stdout",
     "output_type": "stream",
     "text": [
      "Eigenvalue 0: -2.8284271247461916\n",
      "Eigenstate components in computational basis:\n",
      "  |0011>: -0.2706\n",
      "  |0110>: -0.6533\n",
      "  |1001>: -0.6533\n",
      "  |1100>: -0.2706\n",
      "\n",
      "Eigenvalue 1: -2.000000000000002\n",
      "Eigenstate components in computational basis:\n",
      "  |0101>: 0.6444\n",
      "  |0110>: 0.5406\n",
      "  |1001>: -0.5406\n",
      "  |1010>: 0.0148\n",
      "\n",
      "Eigenvalue 2: -2.0\n",
      "Eigenstate components in computational basis:\n",
      "  |0101>: -0.7494\n",
      "  |0110>: 0.4492\n",
      "  |1001>: -0.4492\n",
      "  |1010>: -0.1865\n",
      "\n",
      "Eigenvalue 3: -1.9999999999999998\n",
      "Eigenstate components in computational basis:\n",
      "  |0101>: -0.1520\n",
      "  |0110>: 0.0771\n",
      "  |1001>: -0.0771\n",
      "  |1010>: 0.9823\n",
      "\n"
     ]
    }
   ],
   "source": [
    "# Compute all eigenvalues and eigenvectors of the Hamiltonian\n",
    "eigenvalues, eigenvectors = eigsh(hamiltonian, k=SIZE, which='SA')  # 'SA' for smallest eigenvalues\n",
    "\n",
    "# Define the computational basis states for the system size\n",
    "num_qubits = SIZE\n",
    "basis_states = [f\"{i:0{num_qubits}b}\" for i in range(2**num_qubits)]  # Generate binary strings as basis states\n",
    "\n",
    "# Print each eigenvalue with its corresponding eigenstate in the computational basis\n",
    "for i, (eigenvalue, eigenvector) in enumerate(zip(eigenvalues, eigenvectors.T)):\n",
    "    print(f\"Eigenvalue {i}: {eigenvalue}\")\n",
    "    print(\"Eigenstate components in computational basis:\")\n",
    "    \n",
    "    # Go through each component of the eigenvector\n",
    "    for j, amplitude in enumerate(eigenvector):\n",
    "        if np.abs(amplitude) > 1e-2:  # Only print significant components\n",
    "            print(f\"  |{basis_states[j]}>: {amplitude:.4f}\")\n",
    "    print()\n"
   ]
  },
  {
   "cell_type": "code",
   "execution_count": 12,
   "metadata": {},
   "outputs": [],
   "source": [
    "from scipy.sparse.linalg import eigsh\n",
    "from qiskit.quantum_info import Statevector\n",
    "\n",
    "# Define your initial state |0100> as a Statevector\n",
    "initial_state = np.zeros(2**SIZE)\n",
    "initial_state[4] = 1  # |0100> corresponds to the binary position 4 in decimal\n",
    "initial_sv = Statevector(initial_state)\n",
    "\n",
    "# Get eigenvalues and eigenstates of the full Hamiltonian\n",
    "eigenvalues, eigenvectors = eigsh(hamiltonian, k=SIZE, which='SA')\n",
    "\n",
    "# Calculate the projection of the initial state onto each eigenstate\n",
    "for i, (eigenvalue, eigenvector) in enumerate(zip(eigenvalues, eigenvectors.T)):\n",
    "    # Project the initial state onto the eigenstate\n",
    "    overlap = np.abs(np.dot(initial_sv.data.conj(), eigenvector)) ** 2\n",
    "    if overlap > 1e-3:  # Filter for significant overlaps\n",
    "        print(f\"Eigenvalue: {eigenvalue}, Overlap: {overlap:.4f}\")\n"
   ]
  },
  {
   "cell_type": "code",
   "execution_count": 13,
   "metadata": {},
   "outputs": [
    {
     "data": {
      "text/plain": [
       "array([-2.82842712, -2.        , -2.        , -2.        ])"
      ]
     },
     "execution_count": 13,
     "metadata": {},
     "output_type": "execute_result"
    }
   ],
   "source": [
    "eigenvalues"
   ]
  },
  {
   "cell_type": "code",
   "execution_count": null,
   "metadata": {},
   "outputs": [],
   "source": []
  }
 ],
 "metadata": {
  "kernelspec": {
   "display_name": "research_env",
   "language": "python",
   "name": "python3"
  },
  "language_info": {
   "codemirror_mode": {
    "name": "ipython",
    "version": 3
   },
   "file_extension": ".py",
   "mimetype": "text/x-python",
   "name": "python",
   "nbconvert_exporter": "python",
   "pygments_lexer": "ipython3",
   "version": "3.12.4"
  }
 },
 "nbformat": 4,
 "nbformat_minor": 2
}
